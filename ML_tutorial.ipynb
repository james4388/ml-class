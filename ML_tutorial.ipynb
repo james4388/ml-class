{
 "cells": [
  {
   "cell_type": "markdown",
   "metadata": {
    "collapsed": true
   },
   "source": [
    "# Machine Learning Tutorial\n",
    "\n",
    "## Introduction\n",
    "[What is Machine Learning?](https://www.youtube.com/watch?v=jmMcJ4XlrWM&index=2&list=PLZ9qNFMHZ-A4rycgrgOYma6zxF4BZGGPW)"
   ]
  },
  {
   "cell_type": "markdown",
   "metadata": {},
   "source": [
    "## Probability\n",
    "\n",
    "### Sample Space  \n",
    "Universal set of all possible results of an experiment.\n",
    "\n",
    "### Event\n",
    "One possible outcome of of an experiment. Subset of Sample Space.\n",
    "\n",
    "#### Examples\n",
    "_Experiment 1:_ Single Coin Toss  \n",
    " Sample Space: {H,T}  \n",
    "              Event: {H}\n",
    "\n",
    "_Experiment 2:_ Rolling a die  \n",
    "Sample Space: {1,2,3,4,5,6}  \n",
    "              Event: {1}\n",
    "\n",
    "#### Exercise:  \n",
    "What is the sample space of two coin tosses?"
   ]
  },
  {
   "cell_type": "markdown",
   "metadata": {},
   "source": [
    "### What is Probability?  \n",
    "The chance of occurence of an event given a sample space.  \n",
    "\n",
    "#### Example\n",
    "What is the probability of head in a single toss of a fair coin?    \n",
    "Sample space: {H,T} and Event: {H}  \n",
    "Probability of head or P(H) = 0.5\n",
    "\n"
   ]
  },
  {
   "cell_type": "markdown",
   "metadata": {},
   "source": [
    "### Set Theory\n",
    "\n",
    "<img src=\"images/Venn_diagram.png\">\n",
    "\n"
   ]
  },
  {
   "cell_type": "markdown",
   "metadata": {},
   "source": [
    "#### Relation between union and intersection of sets\n",
    "$A\\cup B = A + B - A\\cap B$\n",
    "\n",
    "#### Exercise\n",
    "S = {1,2,3,4,5,6}  \n",
    "A = {2,4}  \n",
    "B = {1,2,3}  \n",
    "What is $A\\cup B$, $A\\cap B$, $A-B$, $A^c$ and $B^c$?"
   ]
  },
  {
   "cell_type": "code",
   "execution_count": 11,
   "metadata": {
    "collapsed": false
   },
   "outputs": [
    {
     "name": "stdout",
     "output_type": "stream",
     "text": [
      "A U B: [1, 2, 3, 4]\n",
      "A intersection B: [2]\n",
      "A - B: [4]\n",
      "A': [1, 3, 5, 6]\n",
      "B': [4, 5, 6]\n"
     ]
    }
   ],
   "source": [
    "S = set([1,2,3,4,5,6])\n",
    "A = set([2,4])\n",
    "B = set([1,2,3])\n",
    "print \"A U B:\",list(set.union(A,B))\n",
    "print \"A intersection B:\",list(set.intersection(A,B))\n",
    "print \"A - B:\",list(set.difference(A,B))\n",
    "print \"A':\",list(set.difference(S,A))\n",
    "print \"B':\",list(set.difference(S,B))"
   ]
  },
  {
   "cell_type": "markdown",
   "metadata": {},
   "source": [
    "#### Exercise\n",
    "$A\\cup B = [1,2,4,5]$  \n",
    "$A\\cap B = [2,4]$  \n",
    "What is A and B? (Hint: Multiple solutions are possible)"
   ]
  },
  {
   "cell_type": "markdown",
   "metadata": {},
   "source": [
    "### Probability rules\n",
    "$P(S) = 1$ (Here S denotes the sample space)\n",
    "\n",
    "$P(A\\cup B) = P(A) + P(B) - P(A\\cap B)$\n",
    "\n",
    "$P(~A) = P(S-A) = P(S) - P(A) = 1 - P(A)$\n",
    "\n",
    "$P(A\\cap B) = P(A) \\times P(B)$   (Only when A and B are independent)"
   ]
  },
  {
   "cell_type": "markdown",
   "metadata": {},
   "source": [
    "## [Conditional Probability, Law of Total Probability and Bayes Theorem](http://ocw.mit.edu/courses/mathematics/18-05-introduction-to-probability-and-statistics-spring-2014/class-slides/MIT18_05S14_class3slides.pdf)"
   ]
  },
  {
   "cell_type": "markdown",
   "metadata": {},
   "source": [
    "### Expectation\n",
    "<img src=\"images/Expectation.png\">"
   ]
  },
  {
   "cell_type": "markdown",
   "metadata": {},
   "source": [
    "#### Exercise\n",
    "S = [0,1,2,3,4]  \n",
    "P(X=0) = 0.3  \n",
    "P(X=1) = 0.1  \n",
    "P(X=2) = 0.2  \n",
    "P(X=3) = 0.1  \n",
    "P(X=4) = 0.3  \n",
    "\n",
    "What is E(X)?"
   ]
  },
  {
   "cell_type": "markdown",
   "metadata": {},
   "source": [
    "### Variance\n",
    "<img src=\"images/Var.png\">"
   ]
  },
  {
   "cell_type": "markdown",
   "metadata": {},
   "source": [
    "<img src=\"images/Exp_Var_prop.png\">"
   ]
  },
  {
   "cell_type": "markdown",
   "metadata": {},
   "source": [
    "<img src=\"images/LLN.png\">"
   ]
  },
  {
   "cell_type": "markdown",
   "metadata": {
    "collapsed": true
   },
   "source": [
    "### Probability Distributions\n",
    "<img src=\"images/Uniform_dist.png\">"
   ]
  },
  {
   "cell_type": "markdown",
   "metadata": {},
   "source": [
    "<img src=\"images/Normal_dist.png\">\n",
    "<img src=\"images/Standard_Normal_dist.png\">"
   ]
  },
  {
   "cell_type": "markdown",
   "metadata": {},
   "source": [
    "# Statistics\n",
    "\n",
    "### Sample Average (or Mean) \n",
    "$$\\bar{X}=\\frac{x_1+x_2+x_3+...+x_N}{N}$$\n",
    "\n",
    "### Standard Deviation\n",
    "$$\\sigma=\\sqrt\\frac{(x_1-\\bar{X})^2 + (x_2-\\bar{X})^2 +...+(x_N-\\bar{X})^2}{N}$$\n",
    "\n",
    "### Median\n",
    "If N is odd then Median = value of ((N + 1)/2)th item term.\n",
    "\n",
    "If N is even then Median = Mean of (N/2)th value and ((N/2) + 1)th value\n",
    "\n",
    "**Note:** Median is robust to outliers"
   ]
  },
  {
   "cell_type": "markdown",
   "metadata": {},
   "source": [
    "### p-norm\n",
    "\n",
    "$$||x||_p=\\Bigg(\\displaystyle\\sum_{i=1}^{N} |x_i|^p\\Bigg)^{\\frac{1}{p}}$$\n",
    "\n",
    "#### 1-norm\n",
    "$$||x||_1=\\displaystyle\\sum_{i=1}^{N} |x_i|$$\n",
    "\n",
    "#### 2-norm\n",
    "$$||x||_2=\\Bigg(\\displaystyle\\sum_{i=1}^{N} |x_i|^2\\Bigg)^{\\frac{1}{2}}$$\n",
    "\n",
    "#### 0-norm\n",
    "$$||x||_0=\\text{Number of non-zero terms in x}$$\n",
    "\n",
    "#### infinity-norm\n",
    "$$||x||_\\infty=\\displaystyle\\max_i |x_i|$$"
   ]
  },
  {
   "cell_type": "markdown",
   "metadata": {},
   "source": [
    "### Correlation\n",
    "Correlation is a statistical technique that can show whether and how strongly pairs of variables are related. For example, height and weight are related; taller people tend to be heavier than shorter people.  \n",
    "$$\\text{Pearson's Correlation}(x,y) = \\frac {E[(X-\\mu_x)(Y-\\mu_y)]}{\\sigma_x \\sigma_y}$$  \n",
    "$$\\text{Pearson's Sample Correlation}(x,y) = \\frac {\\sum_{i}x_i y_i - N\\bar{X}\\bar{Y}}{N\\sigma_x \\sigma_y}$$  \n",
    "It gives a value between +1 and −1 inclusive, where 1 is total positive correlation, 0 is no correlation, and −1 is total negative correlation"
   ]
  },
  {
   "cell_type": "markdown",
   "metadata": {},
   "source": [
    "## Extra Videos\n",
    "[AlphaGo and Google Deepmind](https://www.youtube.com/watch?v=TnUYcTuZJpM)"
   ]
  }
 ],
 "metadata": {
  "anaconda-cloud": {},
  "kernelspec": {
   "display_name": "Python [Root]",
   "language": "python",
   "name": "Python [Root]"
  },
  "language_info": {
   "codemirror_mode": {
    "name": "ipython",
    "version": 2
   },
   "file_extension": ".py",
   "mimetype": "text/x-python",
   "name": "python",
   "nbconvert_exporter": "python",
   "pygments_lexer": "ipython2",
   "version": "2.7.11"
  }
 },
 "nbformat": 4,
 "nbformat_minor": 0
}
