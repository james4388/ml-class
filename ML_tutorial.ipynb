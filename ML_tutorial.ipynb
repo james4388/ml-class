{
 "cells": [
  {
   "cell_type": "markdown",
   "metadata": {
    "collapsed": true
   },
   "source": [
    "Machine Learning Tutorial"
   ]
  },
  {
   "cell_type": "markdown",
   "metadata": {},
   "source": [
    "Contents:  \n",
    "Probability  \n",
    "Statistics"
   ]
  },
  {
   "cell_type": "markdown",
   "metadata": {},
   "source": [
    "## Probability"
   ]
  },
  {
   "cell_type": "markdown",
   "metadata": {},
   "source": [
    "### Sample Space  \n",
    "Universal set of all possible results of an experiment.\n",
    "\n",
    "### Event\n",
    "One possible outcome of of an experiment. Subset of Sample Space.\n",
    "\n",
    "#### Examples\n",
    "_Experiment 1:_ Single Coin Toss  \n",
    " Sample Space: {H,T}  \n",
    "              Event: {H}\n",
    "\n",
    "_Experiment 2:_ Rolling a die  \n",
    "Sample Space: {1,2,3,4,5,6}  \n",
    "              Event: {1}\n",
    "\n",
    "#### Exercise:  \n",
    "What is the sample space of two coin tosses?"
   ]
  },
  {
   "cell_type": "markdown",
   "metadata": {},
   "source": [
    "### What is Probability?  \n",
    "The chance of occurence of an event given a sample space.  \n",
    "\n",
    "#### Example\n",
    "What is the probability of head in a single toss of a fair coin?  \n",
    "Sample space: {H,T} and Event: {H}\n",
    "Probability of head or P(H) = 0.5\n",
    "\n"
   ]
  },
  {
   "cell_type": "markdown",
   "metadata": {},
   "source": [
    "### Set Theory\n",
    "\n",
    "<img src=\"images/Venn_diagram.png\">\n",
    "\n"
   ]
  },
  {
   "cell_type": "markdown",
   "metadata": {},
   "source": [
    "### Probability rules\n",
    "P(S) = 1 (Here S denotes the sample space)\n",
    "\n",
    "P(A or B) = P(A) + P(B) - P(A and B)\n",
    "\n",
    "P(not A) = 1 - P(A)\n",
    "\n",
    "P(A and B) = P(A) X P(B)   (Only when A and B are independent)"
   ]
  },
  {
   "cell_type": "markdown",
   "metadata": {},
   "source": [
    "### [Conditional Probability, Law of Total Probability and Bayes Theorem](http://ocw.mit.edu/courses/mathematics/18-05-introduction-to-probability-and-statistics-spring-2014/class-slides/MIT18_05S14_class3slides.pdf)"
   ]
  },
  {
   "cell_type": "markdown",
   "metadata": {},
   "source": [
    "### Expectation\n",
    "<img src=\"images/Expectation.png\">"
   ]
  },
  {
   "cell_type": "markdown",
   "metadata": {},
   "source": [
    "### Variance\n",
    "<img src=\"images/Var.png\">"
   ]
  },
  {
   "cell_type": "markdown",
   "metadata": {},
   "source": [
    "### Properties of Expectation and Variance\n",
    "<img src=\"images/Exp_Var_prop.png\">"
   ]
  },
  {
   "cell_type": "markdown",
   "metadata": {},
   "source": [
    "<img src=\"images/LLN.png\">"
   ]
  },
  {
   "cell_type": "code",
   "execution_count": null,
   "metadata": {
    "collapsed": true
   },
   "outputs": [],
   "source": []
  },
  {
   "cell_type": "markdown",
   "metadata": {},
   "source": [
    "## Statistics\n"
   ]
  }
 ],
 "metadata": {
  "anaconda-cloud": {},
  "kernelspec": {
   "display_name": "Python [Root]",
   "language": "python",
   "name": "Python [Root]"
  },
  "language_info": {
   "codemirror_mode": {
    "name": "ipython",
    "version": 2
   },
   "file_extension": ".py",
   "mimetype": "text/x-python",
   "name": "python",
   "nbconvert_exporter": "python",
   "pygments_lexer": "ipython2",
   "version": "2.7.11"
  }
 },
 "nbformat": 4,
 "nbformat_minor": 0
}
